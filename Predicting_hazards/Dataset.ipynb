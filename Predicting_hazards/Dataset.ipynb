{
 "cells": [
  {
   "cell_type": "code",
   "execution_count": 11,
   "id": "103b24b0",
   "metadata": {},
   "outputs": [],
   "source": [
    "import pandas as pd\n",
    "import numpy as np"
   ]
  },
  {
   "cell_type": "code",
   "execution_count": 18,
   "id": "501eca39",
   "metadata": {},
   "outputs": [
    {
     "name": "stderr",
     "output_type": "stream",
     "text": [
      "C:\\Users\\klopp\\AppData\\Local\\Temp\\ipykernel_16732\\3240079428.py:1: DtypeWarning: Columns (20,24,26,27) have mixed types. Specify dtype option on import or set low_memory=False.\n",
      "  train_data = pd.read_csv(\"train_data.csv\")\n"
     ]
    }
   ],
   "source": [
    "train_data = pd.read_csv(\"train_data.csv\")"
   ]
  },
  {
   "cell_type": "code",
   "execution_count": 24,
   "id": "aba31ee9",
   "metadata": {},
   "outputs": [],
   "source": [
    "train_data[\"T\"] = train_data[\"T\"].fillna(train_data[\"T\"].mean())\n",
    "train_data[\"Po\"] = train_data[\"Po\"].fillna(train_data[\"Po\"].mean())\n",
    "train_data[\"P\"] = train_data[\"P\"].fillna(train_data[\"P\"].mean())\n",
    "train_data[\"Ff\"] = train_data[\"Ff\"].fillna(train_data[\"Ff\"].mean())\n",
    "train_data[\"ff10\"] = train_data[\"ff10\"].fillna(train_data[\"ff10\"].mean())\n",
    "train_data[\"ff3\"] = train_data[\"ff3\"].fillna(train_data[\"ff3\"].mean())\n",
    "train_data[\"Tn\"] = train_data[\"Tn\"].fillna(train_data[\"Tn\"].mean())\n",
    "train_data[\"Tx\"] = train_data[\"Tx\"].fillna(train_data[\"Tx\"].mean())\n",
    "train_data[\"VV\"] = train_data[\"VV\"].replace('менее 0.05', 0.01)\n",
    "train_data[\"VV\"] = train_data[\"VV\"].replace('менее 0.1', 0.07)\n",
    "train_data[\"VV\"] = pd.to_numeric(train_data[\"VV\"])\n",
    "train_data[\"VV\"] = train_data[\"VV\"].fillna(train_data[\"VV\"].mean())\n",
    "train_data[\"Td\"] = train_data[\"Td\"].fillna(train_data[\"Td\"].mean())\n",
    "train_data[\"RRR\"] = train_data[\"RRR\"].replace('Осадков нет', 0)\n",
    "train_data[\"RRR\"] = train_data[\"RRR\"].replace('Следы осадков', 0.1)\n",
    "train_data[\"RRR\"] = pd.to_numeric(train_data[\"RRR\"])\n",
    "train_data[\"RRR\"] = train_data[\"RRR\"].fillna(train_data[\"RRR\"].mean())\n",
    "train_data[\"tR\"] = train_data[\"tR\"].fillna(train_data[\"tR\"].mean())\n",
    "train_data[\"Tg\"] = train_data[\"Tg\"].fillna(train_data[\"Tg\"].mean())\n",
    "train_data[\"sss\"] = train_data[\"sss\"].replace('Менее 0.5', 0.2)\n",
    "train_data[\"sss\"] = train_data[\"sss\"].replace('Снежный покров не постоянный.', 0)\n",
    "train_data[\"sss\"] = train_data[\"sss\"].replace('Измерение невозможно или неточно.', 400)\n",
    "train_data[\"sss\"] = pd.to_numeric(train_data[\"sss\"])\n",
    "train_data[\"sss\"] = train_data[\"sss\"].fillna(train_data[\"sss\"].mean())\n",
    "train_data[\"Сетей теплоснабжения\"] = train_data[\"Сетей теплоснабжения\"].fillna(train_data[\"Сетей теплоснабжения\"].mean())\n",
    "train_data[\"Сетей горячего водоснабжения\"] = train_data[\"Сетей горячего водоснабжения\"].fillna(train_data[\"Сетей горячего водоснабжения\"].mean())\n",
    "train_data[\"Сетей холодного водоснабжения\"] = train_data[\"Сетей холодного водоснабжения\"].fillna(train_data[\"Сетей холодного водоснабжения\"].mean())\n",
    "train_data[\"Сетей электроснабжения\"] = train_data[\"Сетей электроснабжения\"].fillna(train_data[\"Сетей электроснабжения\"].mean())\n",
    "train_data[\"Сети газоснабжения\"] = train_data[\"Сети газоснабжения\"].fillna(train_data[\"Сети газоснабжения\"].mean())\n",
    "train_data[\"Станций водоподготовки\"] = train_data[\"Станций водоподготовки\"].fillna(train_data[\"Станций водоподготовки\"].mean())\n",
    "train_data[\"Водонасосных объектов\"] = train_data[\"Водонасосных объектов\"].fillna(train_data[\"Водонасосных объектов\"].mean())\n",
    "train_data[\"Объектов водозабора\"] = train_data[\"Объектов водозабора\"].fillna(train_data[\"Объектов водозабора\"].mean())\n",
    "train_data[\"Сетей водоотведения\"] = train_data[\"Сетей водоотведения\"].fillna(train_data[\"Сетей водоотведения\"].mean())\n",
    "\n",
    "train_data[\"Очистных сооружений канализации\"] = train_data[\"Очистных сооружений канализации\"].fillna(train_data[\"Очистных сооружений канализации\"].mean())\n",
    "train_data[\"Канализационных насосных станций\"] = train_data[\"Канализационных насосных станций\"].fillna(train_data[\"Канализационных насосных станций\"].mean())\n",
    "train_data[\"Котельных\"] = train_data[\"Котельных\"].fillna(train_data[\"Котельных\"].mean())\n",
    "train_data[\"Тепловых пунктов\"] = train_data[\"Тепловых пунктов\"].replace('-', 0)\n",
    "train_data[\"Тепловых пунктов\"] = pd.to_numeric(train_data['Тепловых пунктов'])\n",
    "train_data[\"Тепловых пунктов\"] = train_data[\"Тепловых пунктов\"].fillna(train_data[\"Тепловых пунктов\"].mean())"
   ]
  },
  {
   "cell_type": "code",
   "execution_count": 52,
   "id": "c9e3ba83",
   "metadata": {},
   "outputs": [],
   "source": [
    "data_nums = ['T',\n",
    " 'Po',\n",
    " 'P',\n",
    " 'Ff',\n",
    " 'ff10',\n",
    " 'ff3',\n",
    " 'Tn',\n",
    " 'Tx',\n",
    " 'VV',\n",
    " 'Td',\n",
    " 'RRR',\n",
    " 'tR',\n",
    " 'Tg',\n",
    " 'sss',\n",
    " 'Сетей теплоснабжения',\n",
    " 'Сетей холодного водоснабжения',\n",
    " 'Сетей горячего водоснабжения',\n",
    " 'Сетей электроснабжения',\n",
    " 'Сети газоснабжения',\n",
    " 'Станций водоподготовки',\n",
    " 'Водонасосных объектов',\n",
    " 'Объектов водозабора',\n",
    " 'Сетей водоотведения',\n",
    " 'Очистных сооружений канализации',\n",
    " 'Канализационных насосных станций',\n",
    " 'Котельных',\n",
    " 'Тепловых пунктов']\n",
    "data_symbols = [\"DD\", \"N\", \"WW\", \"W1\", \"W2\", \"Cl\", \"Nh\", \"H\", \"Cm\", \"Ch\", \"E\", \"E'\", \\\n",
    "                \"Наименование муниципального образования\", \"Тип выезда\", \"Вид происшествия\"]"
   ]
  },
  {
   "cell_type": "code",
   "execution_count": 37,
   "id": "6ffcbb50",
   "metadata": {},
   "outputs": [],
   "source": [
    "from sklearn import preprocessing\n",
    "scaled_dataset = pd.DataFrame()\n",
    "for x in data_nums:\n",
    "    data_values = np.array(train_data[x])\n",
    "    scaled_data = preprocessing.normalize([data_values])\n",
    "    scaled_dataset[x] = scaled_data[0]"
   ]
  },
  {
   "cell_type": "code",
   "execution_count": 62,
   "id": "442f64c3",
   "metadata": {},
   "outputs": [
    {
     "data": {
      "text/plain": [
       "Index(['Unnamed: 0', 'Время происшествий', 'T', 'Po', 'P', 'DD', 'Ff', 'ff10',\n",
       "       'ff3', 'N', 'WW', 'W1', 'W2', 'Tn', 'Tx', 'Cl', 'Nh', 'H', 'Cm', 'Ch',\n",
       "       'VV', 'Td', 'RRR', 'tR', 'E', 'Tg', 'E'', 'sss',\n",
       "       'Метеорологическая станция', 'Наименование муниципального образования',\n",
       "       'Сетей теплоснабжения', 'Сетей холодного водоснабжения',\n",
       "       'Сетей горячего водоснабжения', 'Сетей электроснабжения',\n",
       "       'Сети газоснабжения', 'Станций водоподготовки', 'Водонасосных объектов',\n",
       "       'Объектов водозабора', 'Сетей водоотведения',\n",
       "       'Очистных сооружений канализации', 'Канализационных насосных станций',\n",
       "       'Котельных', 'Тепловых пунктов', 'Тип выезда', 'year', 'month', 'day',\n",
       "       'hour', 'mean_t', 'mean_years_t', 'timestamp', 'Пожар причина человек',\n",
       "       'Пожар причина оборудование', 'Вид происшествия'],\n",
       "      dtype='object')"
      ]
     },
     "execution_count": 62,
     "metadata": {},
     "output_type": "execute_result"
    }
   ],
   "source": [
    "train_data.columns.unique()"
   ]
  },
  {
   "cell_type": "code",
   "execution_count": 72,
   "id": "76b0bea2",
   "metadata": {},
   "outputs": [
    {
     "name": "stderr",
     "output_type": "stream",
     "text": [
      "C:\\ProgramData\\anaconda3\\lib\\site-packages\\sklearn\\preprocessing\\_encoders.py:828: FutureWarning: `sparse` was renamed to `sparse_output` in version 1.2 and will be removed in 1.4. `sparse_output` is ignored unless you leave `sparse` to its default value.\n",
      "  warnings.warn(\n"
     ]
    },
    {
     "ename": "MemoryError",
     "evalue": "Unable to allocate 6.95 TiB for an array with shape (958501, 996245) and data type float64",
     "output_type": "error",
     "traceback": [
      "\u001b[1;31m---------------------------------------------------------------------------\u001b[0m",
      "\u001b[1;31mMemoryError\u001b[0m                               Traceback (most recent call last)",
      "Cell \u001b[1;32mIn[72], line 6\u001b[0m\n\u001b[0;32m      4\u001b[0m onehotencoder \u001b[38;5;241m=\u001b[39m OneHotEncoder(sparse\u001b[38;5;241m=\u001b[39m\u001b[38;5;28;01mTrue\u001b[39;00m)\n\u001b[0;32m      5\u001b[0m data_new \u001b[38;5;241m=\u001b[39m onehotencoder\u001b[38;5;241m.\u001b[39mfit_transform(data\u001b[38;5;241m.\u001b[39mvalues)\n\u001b[1;32m----> 6\u001b[0m pd\u001b[38;5;241m.\u001b[39mDataFrame(\u001b[43mdata_new\u001b[49m\u001b[38;5;241;43m.\u001b[39;49m\u001b[43mtoarray\u001b[49m\u001b[43m(\u001b[49m\u001b[43m)\u001b[49m, columns\u001b[38;5;241m=\u001b[39monehotencoder\u001b[38;5;241m.\u001b[39mcategories_)\n",
      "File \u001b[1;32m~\\AppData\\Roaming\\Python\\Python310\\site-packages\\scipy\\sparse\\_compressed.py:1051\u001b[0m, in \u001b[0;36m_cs_matrix.toarray\u001b[1;34m(self, order, out)\u001b[0m\n\u001b[0;32m   1049\u001b[0m \u001b[38;5;28;01mif\u001b[39;00m out \u001b[38;5;129;01mis\u001b[39;00m \u001b[38;5;28;01mNone\u001b[39;00m \u001b[38;5;129;01mand\u001b[39;00m order \u001b[38;5;129;01mis\u001b[39;00m \u001b[38;5;28;01mNone\u001b[39;00m:\n\u001b[0;32m   1050\u001b[0m     order \u001b[38;5;241m=\u001b[39m \u001b[38;5;28mself\u001b[39m\u001b[38;5;241m.\u001b[39m_swap(\u001b[38;5;124m'\u001b[39m\u001b[38;5;124mcf\u001b[39m\u001b[38;5;124m'\u001b[39m)[\u001b[38;5;241m0\u001b[39m]\n\u001b[1;32m-> 1051\u001b[0m out \u001b[38;5;241m=\u001b[39m \u001b[38;5;28;43mself\u001b[39;49m\u001b[38;5;241;43m.\u001b[39;49m\u001b[43m_process_toarray_args\u001b[49m\u001b[43m(\u001b[49m\u001b[43morder\u001b[49m\u001b[43m,\u001b[49m\u001b[43m \u001b[49m\u001b[43mout\u001b[49m\u001b[43m)\u001b[49m\n\u001b[0;32m   1052\u001b[0m \u001b[38;5;28;01mif\u001b[39;00m \u001b[38;5;129;01mnot\u001b[39;00m (out\u001b[38;5;241m.\u001b[39mflags\u001b[38;5;241m.\u001b[39mc_contiguous \u001b[38;5;129;01mor\u001b[39;00m out\u001b[38;5;241m.\u001b[39mflags\u001b[38;5;241m.\u001b[39mf_contiguous):\n\u001b[0;32m   1053\u001b[0m     \u001b[38;5;28;01mraise\u001b[39;00m \u001b[38;5;167;01mValueError\u001b[39;00m(\u001b[38;5;124m'\u001b[39m\u001b[38;5;124mOutput array must be C or F contiguous\u001b[39m\u001b[38;5;124m'\u001b[39m)\n",
      "File \u001b[1;32m~\\AppData\\Roaming\\Python\\Python310\\site-packages\\scipy\\sparse\\_base.py:1298\u001b[0m, in \u001b[0;36mspmatrix._process_toarray_args\u001b[1;34m(self, order, out)\u001b[0m\n\u001b[0;32m   1296\u001b[0m     \u001b[38;5;28;01mreturn\u001b[39;00m out\n\u001b[0;32m   1297\u001b[0m \u001b[38;5;28;01melse\u001b[39;00m:\n\u001b[1;32m-> 1298\u001b[0m     \u001b[38;5;28;01mreturn\u001b[39;00m \u001b[43mnp\u001b[49m\u001b[38;5;241;43m.\u001b[39;49m\u001b[43mzeros\u001b[49m\u001b[43m(\u001b[49m\u001b[38;5;28;43mself\u001b[39;49m\u001b[38;5;241;43m.\u001b[39;49m\u001b[43mshape\u001b[49m\u001b[43m,\u001b[49m\u001b[43m \u001b[49m\u001b[43mdtype\u001b[49m\u001b[38;5;241;43m=\u001b[39;49m\u001b[38;5;28;43mself\u001b[39;49m\u001b[38;5;241;43m.\u001b[39;49m\u001b[43mdtype\u001b[49m\u001b[43m,\u001b[49m\u001b[43m \u001b[49m\u001b[43morder\u001b[49m\u001b[38;5;241;43m=\u001b[39;49m\u001b[43morder\u001b[49m\u001b[43m)\u001b[49m\n",
      "\u001b[1;31mMemoryError\u001b[0m: Unable to allocate 6.95 TiB for an array with shape (958501, 996245) and data type float64"
     ]
    }
   ],
   "source": []
  },
  {
   "cell_type": "code",
   "execution_count": 79,
   "id": "78a2c03d",
   "metadata": {},
   "outputs": [
    {
     "ename": "TypeError",
     "evalue": "merge() missing 1 required positional argument: 'right'",
     "output_type": "error",
     "traceback": [
      "\u001b[1;31m---------------------------------------------------------------------------\u001b[0m",
      "\u001b[1;31mTypeError\u001b[0m                                 Traceback (most recent call last)",
      "Cell \u001b[1;32mIn[79], line 10\u001b[0m\n\u001b[0;32m      7\u001b[0m encoded_data \u001b[38;5;241m=\u001b[39m pd\u001b[38;5;241m.\u001b[39mDataFrame(transformed_data, index\u001b[38;5;241m=\u001b[39mtrain_data\u001b[38;5;241m.\u001b[39mindex)\n\u001b[0;32m      9\u001b[0m \u001b[38;5;66;03m# now concatenate the original data and the encoded data using pandas\u001b[39;00m\n\u001b[1;32m---> 10\u001b[0m concatenated_data \u001b[38;5;241m=\u001b[39m \u001b[43mpd\u001b[49m\u001b[38;5;241;43m.\u001b[39;49m\u001b[43mmerge\u001b[49m\u001b[43m(\u001b[49m\u001b[43m[\u001b[49m\u001b[43mscaled_dataset\u001b[49m\u001b[43m,\u001b[49m\u001b[43m \u001b[49m\u001b[43mencoded_data\u001b[49m\u001b[43m]\u001b[49m\u001b[43m)\u001b[49m\n",
      "\u001b[1;31mTypeError\u001b[0m: merge() missing 1 required positional argument: 'right'"
     ]
    }
   ],
   "source": [
    "from sklearn.preprocessing import OneHotEncoder\n",
    "onehotencoder = OneHotEncoder()\n",
    "\n",
    "transformed_data = onehotencoder.fit_transform(train_data[data_symbols])\n",
    "\n",
    "# the above transformed_data is an array so convert it to dataframe\n",
    "encoded_data = pd.DataFrame(transformed_data, index=train_data.index)\n",
    "\n",
    "# now concatenate the original data and the encoded data using pandas\n",
    "concatenated_data = pd.merge([scaled_dataset, encoded_data])"
   ]
  },
  {
   "cell_type": "code",
   "execution_count": null,
   "id": "f28d1aa7",
   "metadata": {},
   "outputs": [],
   "source": [
    "concatenated_data"
   ]
  },
  {
   "cell_type": "code",
   "execution_count": null,
   "id": "12857266",
   "metadata": {},
   "outputs": [],
   "source": []
  }
 ],
 "metadata": {
  "kernelspec": {
   "display_name": "Python 3 (ipykernel)",
   "language": "python",
   "name": "python3"
  },
  "language_info": {
   "codemirror_mode": {
    "name": "ipython",
    "version": 3
   },
   "file_extension": ".py",
   "mimetype": "text/x-python",
   "name": "python",
   "nbconvert_exporter": "python",
   "pygments_lexer": "ipython3",
   "version": "3.10.9"
  }
 },
 "nbformat": 4,
 "nbformat_minor": 5
}
